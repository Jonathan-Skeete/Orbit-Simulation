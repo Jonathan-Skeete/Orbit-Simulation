{
 "cells": [
  {
   "cell_type": "code",
   "execution_count": 1,
   "id": "a990affd-9d46-4dd6-a2ce-7fb259510e16",
   "metadata": {},
   "outputs": [],
   "source": [
    "import math\n",
    "import numpy as np\n",
    "import matplotlib.pyplot as plt\n",
    "import celestial_constants as cc"
   ]
  },
  {
   "cell_type": "code",
   "execution_count": 2,
   "id": "fbb58cc5-a987-4fd9-aadb-74e273e42e8e",
   "metadata": {},
   "outputs": [],
   "source": [
    "timestep = 1e5"
   ]
  },
  {
   "cell_type": "code",
   "execution_count": 3,
   "id": "32a2a067-b3f5-4c91-8ae7-c1dc5cc50604",
   "metadata": {},
   "outputs": [],
   "source": [
    "def Times(steps: int) -> np.array:\n",
    "    times = np.zeros((steps+1,1))\n",
    "    for i in range(steps+1):\n",
    "        times[i] = i * timestep\n",
    "    return times"
   ]
  },
  {
   "cell_type": "code",
   "execution_count": 4,
   "id": "9827b18a",
   "metadata": {},
   "outputs": [],
   "source": [
    "def Force(m1: float, m2: float, rj: np.array, ri: np.array) -> np.array:\n",
    "    assert len(rj) == len(ri) == 2\n",
    "    return -cc.G * m1 * m2 * (rj-ri) / (((rj[0]-ri[0])**2 + (rj[1]-ri[1])**2)**(3/2))"
   ]
  },
  {
   "cell_type": "code",
   "execution_count": 5,
   "id": "89f30bf9",
   "metadata": {},
   "outputs": [],
   "source": [
    "def Positions(Perihelion: float, PlanetMass: float, SunMass: float, Velocity: float, steps: int) -> np.array:\n",
    "    positions = np.zeros((steps+1, 2))\n",
    "    positions[0] = np.array([Perihelion, 0])\n",
    "    positions[1] = np.array([Perihelion - ((1/2) * ((cc.G * SunMass) / (Perihelion**2))), Velocity * timestep])\n",
    "    \n",
    "    # Second order difference equation\n",
    "    for l in range(1, steps):\n",
    "        positions[l+1,:] = (2 * positions[l,:]) - (positions[l-1,:]) + (Force(PlanetMass, SunMass, positions[l,:], [0,0]) * timestep**2 / PlanetMass)\n",
    "    \n",
    "    return positions"
   ]
  },
  {
   "cell_type": "code",
   "execution_count": 6,
   "id": "dddbfbb0",
   "metadata": {},
   "outputs": [],
   "source": [
    "def Velocity_0(ra: float,rp: float, period: float) -> float:\n",
    "    return (math.pi * (ra+rp) * math.sqrt(ra*rp))/(rp*period)"
   ]
  },
  {
   "cell_type": "code",
   "execution_count": 7,
   "id": "d19868df",
   "metadata": {},
   "outputs": [],
   "source": [
    "def Accelerations(Mj: float, Mi: float, positions_1: np.array, positions_2: np.array = None) -> np.array:\n",
    "    if positions_2 is None:\n",
    "        positions_2 = np.zeros((len(positions_1), 2))\n",
    "        \n",
    "    assert positions_1.shape == positions_2.shape\n",
    "    \n",
    "    accelerations = np.zeros((len(positions_1), 2))\n",
    "    \n",
    "    for i in range(len(positions_1)):\n",
    "        accelerations[i] = Force(Mj, Mi, positions_1[i], positions_2[i]) / Mj\n",
    "        \n",
    "    return accelerations"
   ]
  },
  {
   "cell_type": "code",
   "execution_count": 8,
   "id": "50d6132d",
   "metadata": {},
   "outputs": [],
   "source": [
    "def Differences(positions_1: np.array, positions_2: np.array) -> np.array:\n",
    "    assert positions_1.shape == positions_2.shape\n",
    "    return positions_1 - positions_2"
   ]
  },
  {
   "cell_type": "code",
   "execution_count": 9,
   "id": "439005ea",
   "metadata": {},
   "outputs": [],
   "source": [
    "def simulate_orbits(positionsE: np.array, positionsM: np.array, positionsJ: np.array, simulate = True) -> None:\n",
    "    plt.figure(figsize=(10, 10))\n",
    "    plt.plot(positionsE[:, 0], positionsE[:, 1], 'b-', label='Earth Orbit')\n",
    "    plt.plot(positionsM[:, 0], positionsM[:, 1], 'r-', label='Mars Orbit')\n",
    "    plt.plot(positionsJ[:, 0], positionsJ[:, 1], 'g-', label='Jupiter Orbit')\n",
    "    plt.plot(0, 0, 'ro', markersize=18, markerfacecolor='yellow', markeredgecolor='black', label='Sun')  # Marker for the Sun\n",
    "    \n",
    "    h1, = plt.plot([], [], 'bo', markersize=8, markerfacecolor='blue', markeredgecolor='black', label='Earth')\n",
    "    h2, = plt.plot([], [], 'ro', markersize=8, markerfacecolor='red', markeredgecolor='black', label='Mars')\n",
    "    h3, = plt.plot([], [], 'go', markersize=12, markerfacecolor='green', markeredgecolor='black', label='Jupiter')\n",
    "    \n",
    "    plt.axis((-8.5e11, 8.5e11, -8.5e11, 8.5e11))\n",
    "    plt.grid(True)\n",
    "    plt.xlabel('x (m)')\n",
    "    plt.ylabel('y (m)')\n",
    "    plt.title('Orbits of Earth, Mars, and Jupiter around the Sun')\n",
    "    plt.legend()\n",
    "        \n",
    "    h1.set_data([positionsE[0, 0]], [positionsE[0, 1]])\n",
    "    h2.set_data([positionsM[0, 0]], [positionsM[0, 1]])\n",
    "    h3.set_data([positionsJ[0, 0]], [positionsJ[0, 1]])  \n",
    "        \n",
    "    # Simulate the motion by updating the marker's position\n",
    "    if simulate:\n",
    "        plt.pause(2)\n",
    "        for k in range(1, len(positionsE)):\n",
    "            h1.set_data([positionsE[k, 0]], [positionsE[k, 1]])\n",
    "            h2.set_data([positionsM[k, 0]], [positionsM[k, 1]])\n",
    "            h3.set_data([positionsJ[k, 0]], [positionsJ[k, 1]])\n",
    "            \n",
    "            plt.pause(0.01)  # Pause for a short duration to simulate motion\n",
    "        \n",
    "    plt.show()"
   ]
  },
  {
   "cell_type": "code",
   "execution_count": 10,
   "id": "069a9704",
   "metadata": {},
   "outputs": [],
   "source": [
    "\n",
    "Esteps = math.ceil(cc.EarthO/timestep)\n",
    "Msteps = math.ceil(cc.MarsO/timestep)\n",
    "Jsteps = math.ceil(cc.JupiterO/timestep)\n",
    "\n",
    "VEarth = Velocity_0(cc.EarthA, cc.EarthP, cc.EarthO)\n",
    "VMars = Velocity_0(cc.MarsA, cc.MarsP, cc.MarsO)\n",
    "VJupiter = Velocity_0(cc.JupiterA, cc.JupiterP, cc.JupiterO)\n",
    "\n",
    "Etimes = Times(Esteps)\n",
    "Mtimes = Times(Msteps)\n",
    "Jtimes = Times(Jsteps)\n",
    "\n",
    "positionsE = Positions(cc.EarthP, cc.EarthMass, cc.SunMass, VEarth, Esteps)\n",
    "positionsM = Positions(cc.MarsP, cc.MarsMass, cc.SunMass, VMars, Msteps)\n",
    "positionsJ = Positions(cc.JupiterP, cc.JupiterMass, cc.SunMass, VJupiter, Jsteps)\n",
    "\n",
    "positions3yearsE = Positions(cc.EarthP, cc.EarthMass, cc.SunMass, VEarth, Esteps*3)\n",
    "positions3yearsM = Positions(cc.MarsP, cc.MarsMass, cc.SunMass, VMars, Esteps*3)\n",
    "positions3yearsJ = Positions(cc.JupiterP, cc.JupiterMass, cc.SunMass, VJupiter, Esteps*3)\n",
    "\n",
    "positions36yearsE = Positions(cc.EarthP, cc.EarthMass, cc.SunMass, VEarth, Esteps*36)\n",
    "positions36yearsM = Positions(cc.MarsP, cc.MarsMass, cc.SunMass, VMars, Esteps*36)\n",
    "positions36yearsJ = Positions(cc.JupiterP, cc.JupiterMass, cc.SunMass, VJupiter, Esteps*36)\n",
    "\n",
    "accelerationsE = Accelerations(cc.EarthMass, cc.SunMass, positionsE)\n",
    "accelerationsM = Accelerations(cc.MarsMass, cc.SunMass, positionsM)\n",
    "accelerationsJ = Accelerations(cc.JupiterMass, cc.SunMass, positionsJ)\n",
    "accelerationsEJ = accelerationsE + Accelerations(cc.EarthMass, cc.JupiterMass, positionsE, positionsJ[0:Esteps+1])\n",
    "accelerationsMJ = accelerationsM + Accelerations(cc.MarsMass, cc.JupiterMass, positionsM, positionsJ[0:Msteps+1])\n",
    "\n",
    "differencesEJ = Differences(positionsE, positionsJ[0:Esteps+1])\n",
    "differencesMJ = Differences(positionsM, positionsJ[0:Msteps+1])\n",
    "\n",
    "# simulate_orbits(positions3yearsE, positions3yearsM, positions3yearsJ, simulate = False)\n",
    "# simulate_orbits(positions36yearsE, positions36yearsM, positions36yearsJ, simulate = False)    \n",
    "\n",
    "# Simulation of the orbits\n",
    "# simulate_orbits(positions3yearsE, positions3yearsM, positions3yearsJ)\n",
    "# simulate_orbits(positions36yearsE, positions36yearsM, positions36yearsJ)"
   ]
  },
  {
   "cell_type": "code",
   "execution_count": null,
   "id": "ae909ae3",
   "metadata": {},
   "outputs": [],
   "source": []
  }
 ],
 "metadata": {
  "kernelspec": {
   "display_name": "Python 3 (ipykernel)",
   "language": "python",
   "name": "python3"
  },
  "language_info": {
   "codemirror_mode": {
    "name": "ipython",
    "version": 3
   },
   "file_extension": ".py",
   "mimetype": "text/x-python",
   "name": "python",
   "nbconvert_exporter": "python",
   "pygments_lexer": "ipython3",
   "version": "3.12.3"
  }
 },
 "nbformat": 4,
 "nbformat_minor": 5
}
